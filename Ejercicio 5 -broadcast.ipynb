{
 "cells": [
  {
   "cell_type": "code",
   "execution_count": 1,
   "id": "41a1c888-2bed-4496-9818-924ef4520144",
   "metadata": {},
   "outputs": [
    {
     "name": "stdout",
     "output_type": "stream",
     "text": [
      "Requirement already satisfied: pandas in /opt/conda/lib/python3.11/site-packages (2.0.3)\n",
      "Requirement already satisfied: python-dateutil>=2.8.2 in /opt/conda/lib/python3.11/site-packages (from pandas) (2.8.2)\n",
      "Requirement already satisfied: pytz>=2020.1 in /opt/conda/lib/python3.11/site-packages (from pandas) (2023.3.post1)\n",
      "Requirement already satisfied: tzdata>=2022.1 in /opt/conda/lib/python3.11/site-packages (from pandas) (2023.3)\n",
      "Requirement already satisfied: numpy>=1.21.0 in /opt/conda/lib/python3.11/site-packages (from pandas) (1.24.4)\n",
      "Requirement already satisfied: six>=1.5 in /opt/conda/lib/python3.11/site-packages (from python-dateutil>=2.8.2->pandas) (1.16.0)\n",
      "Note: you may need to restart the kernel to use updated packages.\n",
      "Requirement already satisfied: pymongo in /opt/conda/lib/python3.11/site-packages (4.8.0)\n",
      "Requirement already satisfied: dnspython<3.0.0,>=1.16.0 in /opt/conda/lib/python3.11/site-packages (from pymongo) (2.6.1)\n",
      "Note: you may need to restart the kernel to use updated packages.\n"
     ]
    }
   ],
   "source": [
    "%pip install pandas\n",
    "%pip install pymongo"
   ]
  },
  {
   "cell_type": "markdown",
   "id": "afa0583f-7e64-427a-8e1f-549ed753ca30",
   "metadata": {},
   "source": [
    "Ejercicio 5: con variables broadcast mostrar el nombre de los usuarios segun su id"
   ]
  },
  {
   "cell_type": "code",
   "execution_count": 29,
   "id": "f64f32c6-bd33-49d0-b7f6-1520b5c5ec0a",
   "metadata": {},
   "outputs": [
    {
     "name": "stdout",
     "output_type": "stream",
     "text": [
      "[('Full Stack Engineer | NodeJS | Express | React | Angular | MongoDB | MySQL | PHP', 'Barcelona'), ('Front End Developer / Back End Developer | React | Redux | NodeJS | MongoDB | Typescript | Jest | Cypress | HTML | CSS | JS | SASS', 'Barcelona'), ('Data analyst - Data Scientist | Python • SQL • MongoDB • Tableau • Machine Learning', 'Barcelona'), ('Full-Stack Developer: Javascript (ES6) | ReactJS | NodeJS | Java | Springboot | MySQL | MongoDB', 'Barcelona'), ('Junior Backend Developer | Java & Spring Boot | MySQL | MongoDB | Git | Postman', 'Barcelona'), ('Helping organizations unlock the power of Data', 'Barcelona'), ('Full Stack Developer | HTML5 | CSS3 | SCSS | ReactJS | Redux | Next JS | Javascript | Typescript | Git | NodeJS | MySQL | MongoDB | Java | ELM | Rescript | Functional Programming', 'Barcelona'), ('Developer | JavaScript | TypeScript | Express | Next | Nest | Node | React | Svelte | MySQL | MongoDB | CSS | HTML | GraphQL | Git | TensorFlow | Rest | Docker | Kubernetes | TailWind | Vitest | Jenkins | AWS', 'Barcelona'), ('Chief Technology Officer', 'Barcelona'), ('Technical Program Manager at MongoDB', 'Barcelona'), ('JavaScript Fullstack Wizard ✨ Creating Magic with NodeJS | Express | MongoDB | Rest API | TypeScript | React | Testing', 'Barcelona'), ('Full Stack Developer React | JavaScript | NodeJS | Java | SpringBoot | PHP | Laravel | Vite | Angular | HTML | CSS | Tailwind CSS | MySql | MongoDB', 'Barcelona'), ('Web Developer FullStack || JavaScript | NodeJS | ExpressJS | MongoDB | ReactJS | Sass | Laravel | Boostsrap | Ionic | ReactNative', 'Barcelona'), ('Desarrollador Full Stack | React JS | Next.js | Javascript | HTML | CSS | Tailwind | MongoDB | Postgres | Node.js | Express | Typescript', 'Barcelona'), ('Frontend Developer | React | Node.js | MongoDB | Full Stack Developer | TypeScript', 'Barcelona'), ('Frontend Developer - Javascript (ES6) | React | Vue | Express & NodeJS | MongoDB | MySQL | HTML & CSS', 'Barcelona'), ('FullStack Web Developer |Frontend | Backend | JavaScript | React | NodeJS | MongoDB |MEARN| Angular | PHP | Laravel |Wordpress | Magento|Prestashop', 'Barcelona'), ('CEO & Founder', 'Barcelona')]\n"
     ]
    }
   ],
   "source": [
    "import pyspark\n",
    "from pyspark.sql import SparkSession\n",
    "from pymongo import MongoClient\n",
    "import pandas as pd\n",
    "\n",
    "# Crea una SparkSession\n",
    "spark = SparkSession.builder \\\n",
    "    .appName(\"MongoSparkConnector2\") \\\n",
    "    .getOrCreate()\n",
    "\n",
    "# Conecta a MongoDB usando pymongo\n",
    "client = MongoClient(\"mongodb://172.17.0.3:27017/\")\n",
    "db = client['docker']\n",
    "collection = db['perfilesmongo']\n",
    "\n",
    "# Extrae los datos desde MongoDB\n",
    "mongo_data = list(collection.find())\n",
    "\n",
    "# Convierte los datos a un DataFrame de pandas\n",
    "pdf = pd.DataFrame(mongo_data)\n",
    "\n",
    "# Elimina la columna '_id' si es necesario, ya que no es serializable por defecto en Spark\n",
    "if '_id' in pdf.columns:\n",
    "    pdf = pdf.drop(columns=['_id'])\n",
    "\n",
    "# Convierte el DataFrame de pandas a un DataFrame de Spark\n",
    "df = spark.createDataFrame(pdf)\n",
    "\n",
    "# Crear un RDD con nombres de varias ciudades\n",
    "ciudades_rdd = [\n",
    "    'Barcelona', 'Valladolid'\n",
    "]\n",
    "\n",
    "\n",
    "\n",
    "# Crear una variable broadcast\n",
    "broadcast_cities = spark.sparkContext.broadcast(ciudades_rdd)\n",
    "\n",
    "# Seleccionar solo la columna 'location'\n",
    "rdd = df.select(\"jobtitle\", \"location\").rdd\n",
    "\n",
    "# Filtrar ubicaciones que están en la lista broadcast\n",
    "rdd_filtrado = rdd.map(lambda x: (x['jobtitle'], x['location'])) \n",
    "# Filtrar el RDD usando la lista broadcast\n",
    "ciudades_importantes_rdd = rdd_filtrado.filter(lambda x: x[1] in broadcast_cities.value)\n",
    "\n",
    "\n",
    "\n",
    "\n",
    "\n",
    "# Recoger y mostrar los resultados\n",
    "results = ciudades_importantes_rdd.collect()\n",
    "\n",
    "print(results)\n",
    "\n",
    "# Detener la SparkSession\n",
    "spark.stop()\n"
   ]
  },
  {
   "cell_type": "code",
   "execution_count": null,
   "id": "a85708c0-1dc8-4f56-b42f-000405007eb1",
   "metadata": {},
   "outputs": [],
   "source": []
  }
 ],
 "metadata": {
  "kernelspec": {
   "display_name": "Python 3 (ipykernel)",
   "language": "python",
   "name": "python3"
  },
  "language_info": {
   "codemirror_mode": {
    "name": "ipython",
    "version": 3
   },
   "file_extension": ".py",
   "mimetype": "text/x-python",
   "name": "python",
   "nbconvert_exporter": "python",
   "pygments_lexer": "ipython3",
   "version": "3.11.6"
  }
 },
 "nbformat": 4,
 "nbformat_minor": 5
}
