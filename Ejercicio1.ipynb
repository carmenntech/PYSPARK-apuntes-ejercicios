{
 "cells": [
  {
   "cell_type": "code",
   "execution_count": 1,
   "id": "3275a8ef-91b5-4f5f-a7c6-1226fb42bbe1",
   "metadata": {},
   "outputs": [
    {
     "name": "stdout",
     "output_type": "stream",
     "text": [
      "Requirement already satisfied: pandas in /opt/conda/lib/python3.11/site-packages (2.0.3)\n",
      "Requirement already satisfied: python-dateutil>=2.8.2 in /opt/conda/lib/python3.11/site-packages (from pandas) (2.8.2)\n",
      "Requirement already satisfied: pytz>=2020.1 in /opt/conda/lib/python3.11/site-packages (from pandas) (2023.3.post1)\n",
      "Requirement already satisfied: tzdata>=2022.1 in /opt/conda/lib/python3.11/site-packages (from pandas) (2023.3)\n",
      "Requirement already satisfied: numpy>=1.21.0 in /opt/conda/lib/python3.11/site-packages (from pandas) (1.24.4)\n",
      "Requirement already satisfied: six>=1.5 in /opt/conda/lib/python3.11/site-packages (from python-dateutil>=2.8.2->pandas) (1.16.0)\n",
      "Note: you may need to restart the kernel to use updated packages.\n",
      "Requirement already satisfied: pymongo in /opt/conda/lib/python3.11/site-packages (4.8.0)\n",
      "Requirement already satisfied: dnspython<3.0.0,>=1.16.0 in /opt/conda/lib/python3.11/site-packages (from pymongo) (2.6.1)\n",
      "Note: you may need to restart the kernel to use updated packages.\n"
     ]
    }
   ],
   "source": [
    "%pip install pandas\n",
    "%pip install pymongo"
   ]
  },
  {
   "cell_type": "markdown",
   "id": "5e310535-6206-469d-a25a-92d2a6ed7256",
   "metadata": {},
   "source": [
    "Ejercicio 1 - Contar los perfiles por cada localizacion"
   ]
  },
  {
   "cell_type": "code",
   "execution_count": 7,
   "id": "61130027-98e1-4966-93b5-552cf95c2985",
   "metadata": {},
   "outputs": [
    {
     "name": "stdout",
     "output_type": "stream",
     "text": [
      "Alcalá de Henares 2\n",
      "Alcobendas 1\n",
      "Aranjuez 1\n",
      "Argentona 1\n",
      "Badalona 1\n",
      "Balaguer 1\n",
      "Barcelona 18\n",
      "Calafell 1\n",
      "Calella 1\n",
      "Cervelló 1\n",
      "Collado-Villalba 1\n",
      "Community of Madrid, Spain 1\n",
      "Coslada 1\n",
      "Fuenlabrada 3\n",
      "Getafe 7\n",
      "Godella 1\n",
      "Granada 2\n",
      "Greater Barcelona Metropolitan Area 4\n",
      "Greater Bilbao Metropolitan Area 1\n",
      "Greater Granada Metropolitan Area 1\n",
      "Greater Las Palmas Metropolitan Area 1\n",
      "Greater Madrid Metropolitan Area 110\n",
      "Greater Málaga Metropolitan Area 1\n",
      "Greater Salamanca Metropolitan Area 1\n",
      "Greater Sevilla Metropolitan Area 1\n",
      "Inca 1\n",
      "L'Hospitalet de Llobregat 1\n",
      "Leganés 2\n",
      "Loeches 1\n",
      "Madrid 184\n",
      "Majadahonda 1\n",
      "Mejorada del Campo 1\n",
      "Mollet del Vallès 1\n",
      "Málaga 1\n",
      "Móstoles 2\n",
      "Ourense 1\n",
      "Parla 1\n",
      "Pinto 1\n",
      "San Fernando de Henares 2\n",
      "San Sebastián de los Reyes 4\n",
      "Segovia 1\n",
      "Spain 11\n",
      "Torrejón de Ardoz 3\n",
      "Torrelodones 1\n",
      "Tres Cantos 1\n",
      "United States 1\n"
     ]
    }
   ],
   "source": [
    "import pyspark\n",
    "from pyspark.sql import SparkSession\n",
    "from pymongo import MongoClient\n",
    "import collections\n",
    "import pandas as pd\n",
    "\n",
    "# Crea una SparkSession\n",
    "spark = SparkSession.builder \\\n",
    "    .appName(\"MongoSparkConnector2\") \\\n",
    "    .getOrCreate()\n",
    "\n",
    "# Conecta a MongoDB usando pymongo\n",
    "client = MongoClient(\"mongodb://172.17.0.3:27017/\")\n",
    "db = client['docker']\n",
    "collection = db['perfilesmongo']\n",
    "\n",
    "# Extrae los datos desde MongoDB\n",
    "mongo_data = list(collection.find())\n",
    "\n",
    "#print(mongo_data)\n",
    "\n",
    "# Convierte los datos a un DataFrame de pandas\n",
    "pdf = pd.DataFrame(mongo_data)\n",
    "\n",
    "# Elimina la columna '_id' si es necesario, ya que no es serializable por defecto en Spark\n",
    "if '_id' in pdf.columns:\n",
    "    pdf = pdf.drop(columns=['_id'])\n",
    "\n",
    "# Convierte el DataFrame de pandas a un DataFrame de Spark\n",
    "df = spark.createDataFrame(pdf)\n",
    "\n",
    "# Convertir el DataFrame a un RDD\n",
    "rdd = df.rdd\n",
    "#df.show()\n",
    "\n",
    "\n",
    "\n",
    "ratings = rdd.map(lambda row: (row['location'])) \n",
    "result = ratings.countByValue()\n",
    "\n",
    "sortedResults = collections.OrderedDict(sorted(result.items()))\n",
    "\n",
    "for key, value in sortedResults.items():\n",
    "    print( \"%s %i\" % (key, value))\n",
    "\n"
   ]
  },
  {
   "cell_type": "code",
   "execution_count": null,
   "id": "a09fc20f-9c1d-4db9-917c-f0f712fd65e5",
   "metadata": {},
   "outputs": [],
   "source": []
  }
 ],
 "metadata": {
  "kernelspec": {
   "display_name": "Python 3 (ipykernel)",
   "language": "python",
   "name": "python3"
  },
  "language_info": {
   "codemirror_mode": {
    "name": "ipython",
    "version": 3
   },
   "file_extension": ".py",
   "mimetype": "text/x-python",
   "name": "python",
   "nbconvert_exporter": "python",
   "pygments_lexer": "ipython3",
   "version": "3.11.6"
  }
 },
 "nbformat": 4,
 "nbformat_minor": 5
}
