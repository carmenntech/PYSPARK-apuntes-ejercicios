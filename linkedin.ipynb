{
 "cells": [
  {
   "cell_type": "code",
   "execution_count": 1,
   "id": "3275a8ef-91b5-4f5f-a7c6-1226fb42bbe1",
   "metadata": {},
   "outputs": [
    {
     "name": "stdout",
     "output_type": "stream",
     "text": [
      "Requirement already satisfied: pandas in /opt/conda/lib/python3.11/site-packages (2.0.3)\n",
      "Requirement already satisfied: python-dateutil>=2.8.2 in /opt/conda/lib/python3.11/site-packages (from pandas) (2.8.2)\n",
      "Requirement already satisfied: pytz>=2020.1 in /opt/conda/lib/python3.11/site-packages (from pandas) (2023.3.post1)\n",
      "Requirement already satisfied: tzdata>=2022.1 in /opt/conda/lib/python3.11/site-packages (from pandas) (2023.3)\n",
      "Requirement already satisfied: numpy>=1.21.0 in /opt/conda/lib/python3.11/site-packages (from pandas) (1.24.4)\n",
      "Requirement already satisfied: six>=1.5 in /opt/conda/lib/python3.11/site-packages (from python-dateutil>=2.8.2->pandas) (1.16.0)\n",
      "Note: you may need to restart the kernel to use updated packages.\n",
      "Requirement already satisfied: pymongo in /opt/conda/lib/python3.11/site-packages (4.8.0)\n",
      "Requirement already satisfied: dnspython<3.0.0,>=1.16.0 in /opt/conda/lib/python3.11/site-packages (from pymongo) (2.6.1)\n",
      "Note: you may need to restart the kernel to use updated packages.\n"
     ]
    }
   ],
   "source": [
    "%pip install pandas\n",
    "%pip install pymongo"
   ]
  },
  {
   "cell_type": "markdown",
   "id": "5e310535-6206-469d-a25a-92d2a6ed7256",
   "metadata": {},
   "source": [
    "Ejercicio 1 - Contar los perfiles por cada localizacion"
   ]
  },
  {
   "cell_type": "code",
   "execution_count": 2,
   "id": "61130027-98e1-4966-93b5-552cf95c2985",
   "metadata": {},
   "outputs": [
    {
     "name": "stdout",
     "output_type": "stream",
     "text": [
      "                                      urn_id    distance  \\\n",
      "0    ACoAABfP5yoB_mCUtKbDGFMZpw4uyBh0llSBG8g  DISTANCE_3   \n",
      "1    ACoAABEyB1cBi8Hx8XjUDICh4TowjBbiD2SFiFA  DISTANCE_3   \n",
      "2    ACoAAAgplloBjV70InE9j_WwlzQMNi1bw33x7J4  DISTANCE_3   \n",
      "3    ACoAACWrb4oBZzjbqTDqQdQIAwiwPBwhdc5UwJA  DISTANCE_3   \n",
      "4    ACoAAD6-p2EBFblr1q0LNkibdmgHLGMeBMGPVwk  DISTANCE_3   \n",
      "..                                       ...         ...   \n",
      "381  ACoAAB9h0gUB9LZBo4HXPNvhmtcqWEuhIWI3vnY  DISTANCE_3   \n",
      "382  ACoAACkRHcMBH5h3ZgBDcX-NksGIh-ms1-1APeM  DISTANCE_3   \n",
      "383  ACoAACqyop8BDZxbaP0we3QqDVUcjA3eGqAAEos  DISTANCE_3   \n",
      "384  ACoAAAtrYpsBpxyX9lHw58GEn3aZEmwu5sH02Ek  DISTANCE_3   \n",
      "385  ACoAAARAwLQB0-bLLVfFGjgvgETr2AqpU8tTNkE  DISTANCE_3   \n",
      "\n",
      "                                              jobtitle  \\\n",
      "0    Data Analyst | MBA | Industrial Engineer | Pyt...   \n",
      "1    Frontend Developer Junior (MERN) | Javascript ...   \n",
      "2                                DBA DB2 LUW y MongoDB   \n",
      "3              MongoDB Tech lead & Consulting Engineer   \n",
      "4    Full Stack Developer | JavaScript | NodeJS | R...   \n",
      "..                                                 ...   \n",
      "381              CTO | Software Engineering | Startups   \n",
      "382                                  Backend Developer   \n",
      "383                                  Software Engineer   \n",
      "384                Data Scientist | Data Analyst | MBA   \n",
      "385                                      Data Engineer   \n",
      "\n",
      "                             location                        name  \n",
      "0                               Spain       Nicolás M. Stambolsky  \n",
      "1                              Madrid         Sofía Gómez Barcala  \n",
      "2                              Madrid      Juan Manuel Pérez Moya  \n",
      "3                              Getafe  Gonzalo Paniagua Racionero  \n",
      "4                              Madrid   Óscar Luis Nicolás Bocero  \n",
      "..                                ...                         ...  \n",
      "381  Greater Madrid Metropolitan Area    Aitor Álvarez Berazaluce  \n",
      "382  Greater Madrid Metropolitan Area            Daniel Domínguez  \n",
      "383                            Madrid      Yannia Gastón González  \n",
      "384                            Madrid                 Juanjo Cano  \n",
      "385                            Madrid        David López González  \n",
      "\n",
      "[386 rows x 5 columns]\n",
      "+--------------------+----------+--------------------+--------------------+--------------------+\n",
      "|              urn_id|  distance|            jobtitle|            location|                name|\n",
      "+--------------------+----------+--------------------+--------------------+--------------------+\n",
      "|ACoAABfP5yoB_mCUt...|DISTANCE_3|Data Analyst | MB...|               Spain|Nicolás M. Stambo...|\n",
      "|ACoAABEyB1cBi8Hx8...|DISTANCE_3|Frontend Develope...|              Madrid| Sofía Gómez Barcala|\n",
      "|ACoAAAgplloBjV70I...|DISTANCE_3|DBA DB2 LUW y Mon...|              Madrid|Juan Manuel Pérez...|\n",
      "|ACoAACWrb4oBZzjbq...|DISTANCE_3|MongoDB Tech lead...|              Getafe|Gonzalo Paniagua ...|\n",
      "|ACoAAD6-p2EBFblr1...|DISTANCE_3|Full Stack Develo...|              Madrid|Óscar Luis Nicolá...|\n",
      "|ACoAABrw-WwBZJHxf...|DISTANCE_3|  Cofundadora y CFPO|              Madrid|     Genesis Martins|\n",
      "|ACoAABHRoUYBybtQm...|DISTANCE_3|Full Stack Develo...|              Madrid| Ángel Bravo de Dios|\n",
      "|ACoAADSiMXEBN1eVt...|DISTANCE_3|Full Stack Develo...|San Sebastián de ...|    David Ferrer Gil|\n",
      "|ACoAAD5AsBUBiSZjn...|DISTANCE_3|Backend / Fullsta...|Greater Madrid Me...|  Alejandro Martinez|\n",
      "|ACoAAC88QCEBGAbSc...|DISTANCE_3|Developer - JavaS...|         Majadahonda|         Pedro Conde|\n",
      "|ACoAAABaQYoBA84BF...|DISTANCE_3|Senior Software E...|Greater Madrid Me...|          Leo Antoli|\n",
      "|ACoAAB4l6_0BKe04b...|DISTANCE_3|Data Analyst | Py...|Greater Madrid Me...|Juan Correa Calderón|\n",
      "|ACoAADNrCt8Buzp_t...|DISTANCE_3|Full Stack Develo...|              Madrid|             Lida Xu|\n",
      "|ACoAADQykCcBEJtEN...|DISTANCE_3|Full stack web de...|               Spain|             Ras H.J|\n",
      "|ACoAAB0rG90BYq4Hj...|DISTANCE_3|Back-end software...|              Madrid|Javier Alonso Gal...|\n",
      "|ACoAAC8zOIoBDg0hz...|DISTANCE_3|Full Stack Develo...|              Madrid|Alejandro Ortiz O...|\n",
      "|ACoAADfGKdABVUcnm...|DISTANCE_3|Backend developer...|              Madrid|Sergio Campos Fer...|\n",
      "|ACoAACrHjnoBx-IKx...|DISTANCE_3|Full Stack Develo...|              Madrid|Carlos Roldán Cañete|\n",
      "|ACoAAB3XyscBFU8F2...|DISTANCE_3|Chief Technology ...|Greater Madrid Me...|         Ayman Nehme|\n",
      "|ACoAADi6LUwBiPU38...|DISTANCE_3|DATA ANALYST, SQL...|Greater Madrid Me...|Ester Fernández-P...|\n",
      "+--------------------+----------+--------------------+--------------------+--------------------+\n",
      "only showing top 20 rows\n",
      "\n"
     ]
    }
   ],
   "source": [
    "import pyspark\n",
    "from pyspark.sql import SparkSession\n",
    "from pymongo import MongoClient\n",
    "import pandas as pd\n",
    "\n",
    "# Crea una SparkSession\n",
    "spark = SparkSession.builder \\\n",
    "    .appName(\"MongoSparkConnector2\") \\\n",
    "    .getOrCreate()\n",
    "\n",
    "# Conecta a MongoDB usando pymongo\n",
    "client = MongoClient(\"mongodb://172.17.0.3:27017/\")\n",
    "db = client['docker']\n",
    "collection = db['perfilesmongo']\n",
    "\n",
    "# Extrae los datos desde MongoDB\n",
    "mongo_data = list(collection.find())\n",
    "\n",
    "#print(mongo_data)\n",
    "\n",
    "# Convierte los datos a un DataFrame de pandas\n",
    "pdf = pd.DataFrame(mongo_data)\n",
    "\n",
    "# Elimina la columna '_id' si es necesario, ya que no es serializable por defecto en Spark\n",
    "if '_id' in pdf.columns:\n",
    "    pdf = pdf.drop(columns=['_id'])\n",
    "\n",
    "# Convierte el DataFrame de pandas a un DataFrame de Spark\n",
    "df = spark.createDataFrame(pdf)\n",
    "\n",
    "# Convertir el DataFrame a un RDD\n",
    "rdd = df.rdd\n",
    "print(pdf)\n",
    "df.show()"
   ]
  },
  {
   "cell_type": "code",
   "execution_count": null,
   "id": "a09fc20f-9c1d-4db9-917c-f0f712fd65e5",
   "metadata": {},
   "outputs": [],
   "source": []
  }
 ],
 "metadata": {
  "kernelspec": {
   "display_name": "Python 3 (ipykernel)",
   "language": "python",
   "name": "python3"
  },
  "language_info": {
   "codemirror_mode": {
    "name": "ipython",
    "version": 3
   },
   "file_extension": ".py",
   "mimetype": "text/x-python",
   "name": "python",
   "nbconvert_exporter": "python",
   "pygments_lexer": "ipython3",
   "version": "3.11.6"
  }
 },
 "nbformat": 4,
 "nbformat_minor": 5
}
