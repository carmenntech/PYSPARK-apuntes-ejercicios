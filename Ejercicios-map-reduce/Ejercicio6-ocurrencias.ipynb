{
 "cells": [
  {
   "cell_type": "code",
   "execution_count": 1,
   "id": "42875c22-39ca-45bb-936c-45b711080c88",
   "metadata": {},
   "outputs": [
    {
     "name": "stdout",
     "output_type": "stream",
     "text": [
      "Requirement already satisfied: pandas in /opt/conda/lib/python3.11/site-packages (2.0.3)\n",
      "Requirement already satisfied: python-dateutil>=2.8.2 in /opt/conda/lib/python3.11/site-packages (from pandas) (2.8.2)\n",
      "Requirement already satisfied: pytz>=2020.1 in /opt/conda/lib/python3.11/site-packages (from pandas) (2023.3.post1)\n",
      "Requirement already satisfied: tzdata>=2022.1 in /opt/conda/lib/python3.11/site-packages (from pandas) (2023.3)\n",
      "Requirement already satisfied: numpy>=1.21.0 in /opt/conda/lib/python3.11/site-packages (from pandas) (1.24.4)\n",
      "Requirement already satisfied: six>=1.5 in /opt/conda/lib/python3.11/site-packages (from python-dateutil>=2.8.2->pandas) (1.16.0)\n",
      "Note: you may need to restart the kernel to use updated packages.\n",
      "Requirement already satisfied: pymongo in /opt/conda/lib/python3.11/site-packages (4.8.0)\n",
      "Requirement already satisfied: dnspython<3.0.0,>=1.16.0 in /opt/conda/lib/python3.11/site-packages (from pymongo) (2.6.1)\n",
      "Note: you may need to restart the kernel to use updated packages.\n"
     ]
    }
   ],
   "source": [
    "%pip install pandas\n",
    "%pip install pymongo"
   ]
  },
  {
   "cell_type": "markdown",
   "id": "5d72784e-bb80-463f-a23e-cca41a231781",
   "metadata": {},
   "source": [
    "Ejercicio 6 : Ocurrencia por item"
   ]
  },
  {
   "cell_type": "code",
   "execution_count": 43,
   "id": "90eb9464-5b04-4070-91e7-471c035c54a3",
   "metadata": {},
   "outputs": [
    {
     "name": "stdout",
     "output_type": "stream",
     "text": [
      "defaultdict(<class 'int'>, {'NestJS': 1, 'Aptitudes': 2, 'para': 3, 'la': 2, 'coordinación': 1, 'Gestión': 8, 'de': 79, 'proyectos': 4, 'JavaScript': 16, 'React.js': 12, 'Node.js': 15, 'Scrum': 6, 'Metodologías': 4, 'ágiles': 4, 'HTML5': 12, 'Css': 1, 'Lenguaje': 3, 'SASS': 5, 'Bootstrap': 7, 'PHP': 7, 'MySQL': 7, 'PhpMyAdmin': 2, 'Laravel': 4, 'MongoDB': 17, 'Mongoose': 5, 'Redux.js': 8, 'Docker': 3, 'GitHub': 11, 'Git': 13, 'Jest': 6, 'Webpack': 4, 'Framer': 1, 'formik': 1, 'Firebase': 3, 'jQuery': 4, 'Español': 1, 'Inglés': 8, 'Italiano': 2, 'Catalán': 1, 'Diseño': 7, 'experiencia': 1, 'usuario': 1, '(UX)': 1, 'web': 17, 'adaptable': 1, 'Desarrollo': 22, 'front': 3, 'end': 5, 'SQL': 12, 'Microsoft': 12, 'Visual': 4, 'Studio': 4, 'Code': 3, 'Npm': 2, '(Software)': 3, 'Modelo-Vista-Controlador': 2, '(MVC)': 3, 'Programación': 4, 'orientada': 2, 'a': 3, 'objetos': 2, '(POO)': 2, 'JSON': 2, 'Full': 5, 'Stack': 6, 'Express.js': 12, 'back': 2, 'API': 6, 'Postman': 3, 'Interfaz': 1, 'programación': 1, 'aplicaciones': 2, '(API)': 1, 'Pruebas': 1, 'Figma': 2, 'styled-components': 1, 'MUI': 1, 'TypeScript': 10, 'cypress': 1, 'Toma': 1, 'decisiones': 2, 'Next.js': 4, 'Cypress.io': 1, 'Análisis': 5, 'estadístico': 1, 'Pensamiento': 1, 'crítico': 1, 'Extraer,': 1, 'transformar': 1, 'y': 4, 'cargar': 1, '(ETL)': 1, 'JIRA': 4, 'NoSQL': 2, 'Capacidad': 2, 'análisis': 2, 'Visualización': 3, 'datos': 7, 'Analítica': 3, 'Streamlit': 1, 'Bases': 3, 'Batch': 2, 'Procesamiento': 1, 'por': 1, 'lotes': 1, 'process': 1, 'Scikit-learn': 1, 'Aprendizaje': 1, 'automático': 1, 'Web': 16, 'scraping': 1, 'Tableau': 1, 'Seaborn': 1, 'Matplotlib': 1, 'NumPy': 1, 'Pandas': 1, 'Oracle': 4, 'Database': 3, 'Adobe': 3, 'Photoshop': 4, 'Python': 4, 'Matlab': 2, 'SolidWorks': 1, 'Word': 2, 'Excel': 4, 'CYPE': 1, 'Maple': 1, 'Ingeniería': 1, 'mecánica': 1, 'Developer': 3, 'Server': 1, 'Management': 11, 'Teste': 1, 'unidade': 1, 'SOLID': 2, 'Design': 7, 'Principles': 1, 'Test-Driven': 3, 'Development': 22, 'Desenvolvimento': 6, 'full': 1, 'stack': 1, 'back-end': 1, 'front-end': 4, 'Pharmaceutical': 1, 'Industry': 1, 'Creative': 1, 'Writing': 1, 'Photography': 1, 'Pesquisa': 1, 'e': 1, 'desenvolvimento': 1, 'software': 5, 'programas': 1, 'React': 6, 'PowerPoint': 1, 'Office': 3, 'CSS': 7, 'ES6': 1, 'javascript': 1, 'HTML': 11, 'Liderança': 2, 'Leadership': 4, 'Negociação': 1, 'Team': 3, 'Worker': 1, 'Problem-solving': 1, 'Communication': 5, 'Gestão': 1, 'tempo': 1, 'Serviços': 1, 'atendimento': 1, 'ao': 1, 'público': 1, 'equipe': 1, 'Inglês': 1, 'Espanhol': 1, 'Adaptability': 1, 'Creativity': 1, 'Dedication': 1, 'to': 1, 'work': 1, 'Quick': 1, 'Learner': 1, 'Eclipse': 2, 'IntelliJ': 2, 'IDEA': 2, 'Angular': 3, 'SonarQube': 1, 'Sourcetree': 1, 'Spring': 5, 'MVC': 1, 'Maven': 1, 'Hibernate': 3, 'PostgreSQL': 3, 'Trabajo': 8, 'en': 11, 'equipo': 7, 'Patrones': 1, 'arquitectura': 1, 'Thymeleaf': 1, 'JUnit': 1, 'Workbench': 1, 'Security': 2, 'Boot': 2, 'Framework': 2, 'Java': 6, 'Sales': 7, 'Prospecting': 1, 'Pipeline': 1, 'Outbound': 1, 'Consulting': 2, 'Project': 2, 'Strategic': 3, 'Communications': 1, 'Business': 2, 'HR': 2, 'Strategy': 2, 'Negotiation': 2, 'Technical': 3, 'Recruiting': 2, 'Information': 1, 'Technology': 1, 'Human': 1, 'Resources': 1, '(HR)': 1, 'English': 4, 'Debugging': 1, 'Teamwork': 3, 'Mocha': 2, '(JavaScript': 1, 'Framework)': 1, 'Responsive': 3, 'Lodash.js': 1, 'Front-End': 4, 'Testing': 2, 'Solar': 1, 'PV': 1, 'Equipment': 1, 'Installation': 1, 'Electrical': 1, 'Wiring': 1, 'C++': 1, 'Cybersecurity': 1, '(Programming': 2, 'Language)': 2, 'Internet': 1, 'Protocol': 2, 'Suite': 1, '(TCP/IP)': 1, 'https://github.com/IgorLuzarraga?tab=repositories': 1, 'Applications': 3, 'Application': 2, 'Semantic': 1, 'C': 2, 'Representational': 2, 'State': 2, 'Transfer': 3, '(REST)': 2, 'Cascading': 4, 'Style': 4, 'Sheets': 4, '(CSS)': 8, 'ESLint': 3, 'ODM': 1, 'Material-UI': 2, 'Back-End': 3, 'Software': 2, 'REST': 3, 'APIs': 3, 'Bash': 1, 'Netlify': 1, 'Heroku': 2, 'Ant': 1, '(Framework)': 1, 'npm': 1, 'Agile': 4, 'Full-Stack': 1, 'Methodologies': 2, 'Computer': 1, 'Science': 1, 'Oral': 1, 'Problem': 2, 'Solving': 2, 'Object-Oriented': 2, 'Programming': 2, '(OOP)': 2, 'Databases': 2, 'Linux': 3, 'Objective': 1, 'Focused': 1, 'Diversity': 1, '&': 1, 'Inclusion': 1, 'Committed': 1, 'Marketing': 7, 'E-Commerce': 1, 'Sourcing': 1, 'System': 1, 'Architecture': 2, 'Cloud': 6, 'Computing': 1, 'Soft': 1, 'Skills': 1, 'Event': 1, 'Planning': 2, 'Curating': 1, 'Short': 1, 'Films': 1, 'People': 1, 'Support': 1, 'Kubernetes': 1, 'Engineering': 1, 'Front-end': 3, 'User': 1, 'Experience': 1, 'Mobile': 1, 'Online': 1, 'Digital': 1, 'Game': 1, 'Redux': 2, '5': 1, 'CSS3': 1, 'Native': 3, 'Embedded': 3, 'Autosar': 1, 'Microcontroladores': 1, 'Patentes': 1, 'Seis': 1, 'Sigma': 1, 'code': 1, 'review': 1, 'ARM': 1, 'Requirements': 1, 'coding': 1, 'standards': 1, 'C#': 1, 'SVN': 1, 'UML': 1, 'RTOS': 1, 'ISO': 1, '26262': 1, 'C/C++': 1, 'STL': 1, 'automated': 1, 'tests': 1, 'Real': 1, 'Time': 1, 'Systems': 1, 'OS': 1, 'CAN': 1, 'IBM': 1, 'Rational': 1, 'DOORS': 1, 'Vector': 1, 'Davinci': 1, 'Trace32': 1, 'Aurix': 2, 'Enterprise': 1, 'Architect': 1, 'DaVinci': 2, 'Configurator': 1, 'CANoe': 1, 'CANape': 1, 'TriCore': 1, 'Confluence': 1, 'FreeRTOS': 1, 'Engenharia': 1, 'Products': 1, 'Clean': 2, 'Hexagonal': 1, 'architecture': 1, 'Model-View-Controlador': 1, 'Jira': 1, 'Prisma': 1, 'ORM': 1, 'Coding': 1, 'vscode': 1, 'TDD': 2, 'Toolkit': 1, 'Hooks': 1, 'C1': 1, 'Elemental': 1, '1': 1, 'Habilidades': 1, 'interpersonales': 1, 'Control': 2, 'versiones': 1, 'Data': 1, 'Networking': 1, 'Services': 1, 'Storage': 1, 'Virtualization': 1, 'Azure': 1, 'Facilidad': 1, 'adaptación': 1, 'Comunicación': 4, 'oral': 1, 'organización': 1, 'Tailwind': 2, 'Vite': 1, 'Aplicaciones': 4, 'FastAPI': 1, 'Relational': 1, 'Atención': 1, 'al': 2, 'cliente': 2, 'Resolución': 5, 'problemas': 4, 'Cargar': 1, 'descargar': 1, 'AngularJS': 1, 'Hojas': 4, 'estilos': 4, 'cascada': 4, 'comercial': 1, 'Ruby': 2, '5.1': 1, 'Maquetación': 1, '|': 1, 'Estáticas': 1, 'Dinámicas': 1, 'Methodology': 1, 'Principios': 1, 'on': 1, 'Rails': 1, 'SQLite': 1, 'IDE': 1, '': 1, 'SiteGround': 1, 'yarn': 1, 'IDEs': 1, 'Herramientas': 1, 'desarrollo': 1, 'Jasmine': 1, 'Sass': 1, 'pair': 1, 'programming': 1, 'JSONJSON': 1, 'Impartición': 1, 'formaciones': 1, 'Formación': 1, 'personal': 2, 'incidencias': 1, 'Planificación': 1, 'estratégica': 1, 'Liderazgo': 2, 'equipos': 2, 'multidisciplinarios': 1, 'Dirección': 1, 'Razonamiento': 1, 'analítico': 1, 'Inteligencia': 2, 'emocional': 2, 'interpersonal': 1, 'Orientación': 1, 'objetivos': 1, 'tiempo': 2, 'asistencia': 1, 'del': 2, 'Autodidacta': 1, 'operativa': 1, 'Tecnologías': 1, 'Hypertext': 1, 'Secure': 1, '(HTTPS)': 1, 'Document': 2, 'Object': 2, 'Model': 2, '(DOM)': 1, 'Cross-browser': 1, 'Compatibility': 1, 'Codificación': 1, 'Integración': 2, 'continua': 1, 'semántico': 1, 'MERN': 1, 'css': 1, 'Continuous': 2, 'Integration': 1, 'and': 1, 'Delivery': 1, '(CI/CD)': 1, 'Flux': 1, 'Fotografía': 2, 'digital': 2, 'Vídeo': 1, 'Televisión': 1, 'Películas': 1, 'Producción': 1, 'cinematográfica': 1, 'AJAX': 1, 'Final': 1, 'Cut': 1, 'Pro': 1, 'Servicio': 1, 'atención': 1, 'Docencia': 1, 'Francés': 1, 'Alemán': 1, 'Handlebars.js': 1, 'Nuke': 1, 'Maya': 1, 'After': 1, 'Effects': 1, 'JPA': 1, 'Servlet': 1, 'Connectivity': 1, '(JDBC)': 1, 'PrestaShop': 2, 'Magento': 1, 'Apache': 1, 'MariaDB': 1, 'Django': 1, 'Sistemas': 1, 'gestión': 1, 'contenidos': 1, '(CMS)': 1, 'WordPress': 2, 'Google': 2, 'Analytics': 1, 'Medios': 1, 'comunicación': 1, 'social': 1, 'Páginas': 1, 'destino': 1, 'Compra': 1, 'programática': 1, 'espacios': 1, 'publicitarios': 1, 'Optimización': 1, 'motores': 1, 'búsqueda': 1, '(SEO)': 1, 'redes': 1, 'sociales': 1, 'online': 1, 'Estrategia': 3, 'Ads': 1, 'marketing': 1, 'Usabilidad': 1, 'Creación': 1, 'páginas': 1, 'bases': 1, 'Comercio': 1, 'electrónico': 2, 'Gulp.js': 1, 'Bower': 1, 'con': 1, 'adolescentes': 1, 'Educación': 2, 'adultos': 1, 'Symfony': 1, 'SEO': 2, 'comercio': 1, 'Jade': 1, 'Estrategias': 1, 'creativas': 1, 'conceptos': 1, 'creativos': 1, 'creativa': 2, 'Auditorías': 1, 'Facebook': 1, 'PayPal': 1, 'Wireframes': 1, 'Frameworks': 1, 'XHTML': 1, 'empresarial': 1, 'CodeIgniter': 1, 'MySQLi': 1, 'Automatización': 1, 'procesos': 1, 'innovación': 1, 'Innovación': 1, 'tecnológica': 1, 'Criptografía': 1, 'Bitcoin': 1, 'Pug': 1})\n"
     ]
    },
    {
     "ename": "AttributeError",
     "evalue": "'collections.defaultdict' object has no attribute 'collect'",
     "output_type": "error",
     "traceback": [
      "\u001b[0;31m---------------------------------------------------------------------------\u001b[0m",
      "\u001b[0;31mAttributeError\u001b[0m                            Traceback (most recent call last)",
      "Cell \u001b[0;32mIn[43], line 46\u001b[0m\n\u001b[1;32m     42\u001b[0m rdd_count \u001b[38;5;241m=\u001b[39m rdd_sep_palabras\u001b[38;5;241m.\u001b[39mcountByValue()\n\u001b[1;32m     44\u001b[0m \u001b[38;5;28mprint\u001b[39m(rdd_count)\n\u001b[0;32m---> 46\u001b[0m \u001b[38;5;28;01mfor\u001b[39;00m element \u001b[38;5;129;01min\u001b[39;00m \u001b[43mrdd_count\u001b[49m\u001b[38;5;241;43m.\u001b[39;49m\u001b[43mcollect\u001b[49m():\n\u001b[1;32m     47\u001b[0m     \u001b[38;5;28mprint\u001b[39m(element)\n",
      "\u001b[0;31mAttributeError\u001b[0m: 'collections.defaultdict' object has no attribute 'collect'"
     ]
    }
   ],
   "source": [
    "import pyspark\n",
    "from pyspark.sql import SparkSession\n",
    "from pymongo import MongoClient\n",
    "import pandas as pd\n",
    "\n",
    "# Crea una SparkSession\n",
    "spark = SparkSession.builder \\\n",
    "    .appName(\"MongoSparkConnector2\") \\\n",
    "    .getOrCreate()\n",
    "\n",
    "# Conecta a MongoDB usando pymongo\n",
    "client = MongoClient(\"mongodb://172.17.0.3:27017/\")\n",
    "db = client['docker']\n",
    "collection = db['items']\n",
    "\n",
    "# Extrae los datos desde MongoDB\n",
    "mongo_data = list(collection.find())\n",
    "\n",
    "# Convierte los datos a un DataFrame de pandas\n",
    "pdf = pd.DataFrame(mongo_data)\n",
    "\n",
    "'''def conteo_items(lista):\n",
    "    int = len(lista) - 1\n",
    "    return int'''\n",
    "    \n",
    "\n",
    "#pdf['oc_item'] = pdf['list_items'].apply(conteo_items)\n",
    "#print(pdf)\n",
    "\n",
    "# Elimina la columna '_id' si es necesario, ya que no es serializable por defecto en Spark\n",
    "if '_id' in pdf.columns:\n",
    "    pdf = pdf.drop(columns=['_id'])\n",
    "\n",
    "# Convierte el DataFrame de pandas a un DataFrame de Spark\n",
    "df = spark.createDataFrame(pdf)\n",
    "\n",
    "rdd = df.select(\"list_items\").rdd\n",
    "    \n",
    "rdd_filtrado = rdd.map(lambda x: (x['list_items']))\n",
    "rdd_sep = rdd_filtrado.map(lambda x: '|'.join(x))\n",
    "rdd_sep_palabras = rdd_separado.flatMap(lambda x: x.split(' '))\n",
    "rdd_count = rdd_sep_palabras.countByValue()\n",
    "\n",
    "print(rdd_count)\n",
    "\n",
    "for element in rdd_count.collect():\n",
    "    print(element)\n"
   ]
  },
  {
   "cell_type": "code",
   "execution_count": null,
   "id": "3dd6f5ae-6ad2-4c9f-8492-21f73812b144",
   "metadata": {},
   "outputs": [],
   "source": []
  },
  {
   "cell_type": "code",
   "execution_count": null,
   "id": "f5c8b4a1-0c02-4327-80c1-7cd84dff3cf9",
   "metadata": {},
   "outputs": [],
   "source": []
  }
 ],
 "metadata": {
  "kernelspec": {
   "display_name": "Python 3 (ipykernel)",
   "language": "python",
   "name": "python3"
  },
  "language_info": {
   "codemirror_mode": {
    "name": "ipython",
    "version": 3
   },
   "file_extension": ".py",
   "mimetype": "text/x-python",
   "name": "python",
   "nbconvert_exporter": "python",
   "pygments_lexer": "ipython3",
   "version": "3.11.6"
  }
 },
 "nbformat": 4,
 "nbformat_minor": 5
}
